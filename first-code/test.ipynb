{
 "cells": [
  {
   "cell_type": "code",
   "execution_count": 1,
   "id": "acd9b4fb",
   "metadata": {},
   "outputs": [
    {
     "data": {
      "text/plain": [
       "22"
      ]
     },
     "execution_count": 1,
     "metadata": {},
     "output_type": "execute_result"
    }
   ],
   "source": [
    "1+21"
   ]
  },
  {
   "cell_type": "code",
   "execution_count": 3,
   "id": "99bc1c9a",
   "metadata": {},
   "outputs": [
    {
     "name": "stdout",
     "output_type": "stream",
     "text": [
      "pandas is installed\n"
     ]
    }
   ],
   "source": [
    "import pandas\n",
    "\n",
    "print(\"pandas is installed\")"
   ]
  },
  {
   "cell_type": "code",
   "execution_count": 4,
   "id": "16c1fac0",
   "metadata": {},
   "outputs": [
    {
     "name": "stdout",
     "output_type": "stream",
     "text": [
      "This is a test script to check if pandas is installed correctly.\n"
     ]
    }
   ],
   "source": [
    "print(\"This is a test script to check if pandas is installed correctly.\")"
   ]
  },
  {
   "cell_type": "code",
   "execution_count": null,
   "id": "d28cbfda",
   "metadata": {},
   "outputs": [],
   "source": []
  }
 ],
 "metadata": {
  "kernelspec": {
   "display_name": "Python 3",
   "language": "python",
   "name": "python3"
  },
  "language_info": {
   "codemirror_mode": {
    "name": "ipython",
    "version": 3
   },
   "file_extension": ".py",
   "mimetype": "text/x-python",
   "name": "python",
   "nbconvert_exporter": "python",
   "pygments_lexer": "ipython3",
   "version": "3.10.0"
  }
 },
 "nbformat": 4,
 "nbformat_minor": 5
}
